{
  "nbformat": 4,
  "nbformat_minor": 0,
  "metadata": {
    "colab": {
      "provenance": [],
      "authorship_tag": "ABX9TyOZ9cZBtT716V0u/v4Cjsvg",
      "include_colab_link": true
    },
    "kernelspec": {
      "name": "python3",
      "display_name": "Python 3"
    },
    "language_info": {
      "name": "python"
    }
  },
  "cells": [
    {
      "cell_type": "markdown",
      "metadata": {
        "id": "view-in-github",
        "colab_type": "text"
      },
      "source": [
        "<a href=\"https://colab.research.google.com/github/OTN-Rajapaksha/Python-Calculator-/blob/main/String_methods_In_Python.ipynb\" target=\"_parent\"><img src=\"https://colab.research.google.com/assets/colab-badge.svg\" alt=\"Open In Colab\"/></a>"
      ]
    },
    {
      "cell_type": "code",
      "execution_count": 4,
      "metadata": {
        "colab": {
          "base_uri": "https://localhost:8080/"
        },
        "id": "qK01ANwovsvY",
        "outputId": "bb46f45d-45cd-401e-f6c9-6e41901cf3c2"
      },
      "outputs": [
        {
          "output_type": "stream",
          "name": "stdout",
          "text": [
            "Oshan Thiyanga Nawod Rajapaksha\n",
            "OSHAN THIYANGA NAWOD RAJAPAKSHA\n",
            "oshan thiyanga nawod rajapaksha\n",
            "Oshan Thiyanga Nawod Rajapaksha\n",
            "Oshan thiyanga nawod rajapaksha\n"
          ]
        }
      ],
      "source": [
        "name = \"Oshan Thiyanga Nawod Rajapaksha\"\n",
        "\n",
        "print(name)\n",
        "print(name.upper()) #Capital Letter\n",
        "print(name.lower()) #Simple Letter\n",
        "print(name.title()) #Frist Letter Capital Letter\n",
        "print(name.capitalize()) #Frist Letter Capital Letter"
      ]
    },
    {
      "cell_type": "code",
      "source": [
        "#find() index()\n",
        "\n",
        "name = \"Oshan Thiyanga Nawod Rajapaksha\"\n",
        "\n",
        "print(name.find(\"a\"))\n",
        "print(name.index(\"a\"))\n",
        "print(name.index(\"a\", 10))\n",
        "print(name.index(\"y\"))\n",
        "print(name.index(\"Nawod\"))"
      ],
      "metadata": {
        "colab": {
          "base_uri": "https://localhost:8080/"
        },
        "id": "MzI1nk2JwiNA",
        "outputId": "dc523603-e315-4a70-cff8-22516c9bfb98"
      },
      "execution_count": 9,
      "outputs": [
        {
          "output_type": "stream",
          "name": "stdout",
          "text": [
            "3\n",
            "3\n",
            "10\n",
            "9\n",
            "15\n"
          ]
        }
      ]
    },
    {
      "cell_type": "code",
      "source": [
        "name = \"----------Oshan-----------\"\n",
        "\n",
        "print(name)\n",
        "print(name.strip(\"-\"))\n",
        "print(name.lstrip(\"-\"))\n",
        "print(name.rstrip(\"-\"))"
      ],
      "metadata": {
        "colab": {
          "base_uri": "https://localhost:8080/"
        },
        "id": "W9fAUdToMKo0",
        "outputId": "f39f3eb9-46fe-4d46-bdcf-34900ebc68ed"
      },
      "execution_count": 1,
      "outputs": [
        {
          "output_type": "stream",
          "name": "stdout",
          "text": [
            "----------Oshan-----------\n",
            "Oshan\n",
            "Oshan-----------\n",
            "----------Oshan\n"
          ]
        }
      ]
    },
    {
      "cell_type": "code",
      "source": [
        "name = \"Oshan Rajapaksha\"\n",
        "\n",
        "#startswith() endswith()\n",
        "\n",
        "print(name.startswith(\"o\"))\n",
        "print(name.endswith(\"k\"))\n",
        "print(name.startswith(\"O\"))\n"
      ],
      "metadata": {
        "colab": {
          "base_uri": "https://localhost:8080/"
        },
        "id": "Yj83Vjr_MaXd",
        "outputId": "53ccbd61-6e2b-4332-8836-4113503569ee"
      },
      "execution_count": 5,
      "outputs": [
        {
          "output_type": "stream",
          "name": "stdout",
          "text": [
            "False\n",
            "False\n",
            "True\n"
          ]
        }
      ]
    },
    {
      "cell_type": "code",
      "source": [
        "x = \"Oshan\",25,\"Monaragala\"\n",
        "\n",
        "print(x)\n",
        "print(str(x).replace(\",\",\"-\"))"
      ],
      "metadata": {
        "colab": {
          "base_uri": "https://localhost:8080/"
        },
        "id": "F79CyfdqNY4X",
        "outputId": "c1db9f02-0415-4b59-e770-a1ee0e7555db"
      },
      "execution_count": 9,
      "outputs": [
        {
          "output_type": "stream",
          "name": "stdout",
          "text": [
            "('Oshan', 25, 'Monaragala')\n",
            "('Oshan'- 25- 'Monaragala')\n"
          ]
        }
      ]
    },
    {
      "cell_type": "code",
      "source": [
        "x = \" Oshan\"\n",
        "y = \" Rajapaksha\"\n",
        "\n",
        "print(x.join(y))"
      ],
      "metadata": {
        "colab": {
          "base_uri": "https://localhost:8080/"
        },
        "id": "tqKVrjP6OJgd",
        "outputId": "c89c1f39-8005-4ec3-90f0-8d0149a61b25"
      },
      "execution_count": 10,
      "outputs": [
        {
          "output_type": "stream",
          "name": "stdout",
          "text": [
            "  OshanR Oshana Oshanj Oshana Oshanp Oshana Oshank Oshans Oshanh Oshana\n"
          ]
        }
      ]
    },
    {
      "cell_type": "code",
      "source": [
        "name = \"nimal Kamal amal\\n 45 65 56\"\n",
        "\n",
        "print(name.split(\"a\"))\n",
        "\n",
        "print(name.splitlines())"
      ],
      "metadata": {
        "colab": {
          "base_uri": "https://localhost:8080/"
        },
        "id": "ruX_20eGVOBL",
        "outputId": "518c9aff-68da-4e1c-8cc7-1ae641280194"
      },
      "execution_count": 15,
      "outputs": [
        {
          "output_type": "stream",
          "name": "stdout",
          "text": [
            "['nim', 'l K', 'm', 'l ', 'm', 'l\\n 45 65 56']\n",
            "['nimal Kamal amal', ' 45 65 56']\n"
          ]
        }
      ]
    },
    {
      "cell_type": "code",
      "source": [],
      "metadata": {
        "id": "I1ARZkrNb0XM"
      },
      "execution_count": null,
      "outputs": []
    }
  ]
}