{
  "nbformat": 4,
  "nbformat_minor": 0,
  "metadata": {
    "colab": {
      "provenance": [],
      "authorship_tag": "ABX9TyM32TOGxHxhkErsTlunHkJr",
      "include_colab_link": true
    },
    "kernelspec": {
      "name": "python3",
      "display_name": "Python 3"
    },
    "language_info": {
      "name": "python"
    }
  },
  "cells": [
    {
      "cell_type": "markdown",
      "metadata": {
        "id": "view-in-github",
        "colab_type": "text"
      },
      "source": [
        "<a href=\"https://colab.research.google.com/github/OTN-Rajapaksha/Python-Calculator-/blob/main/Simple_To_Do_List_App_(Console_Version).ipynb\" target=\"_parent\"><img src=\"https://colab.research.google.com/assets/colab-badge.svg\" alt=\"Open In Colab\"/></a>"
      ]
    },
    {
      "cell_type": "markdown",
      "source": [],
      "metadata": {
        "id": "kLXOKFbw3ivs"
      }
    },
    {
      "cell_type": "markdown",
      "source": [
        "# **📌 To-Do List App in Python:**\n",
        "\n",
        "A simple console-based application to manage daily tasks. Users can add, view, and remove tasks using a menu-driven interface. It demonstrates basic Python concepts like lists, functions, loops, and user input handling."
      ],
      "metadata": {
        "id": "xMDDBg2U4O-T"
      }
    },
    {
      "cell_type": "code",
      "source": [
        "# Simple To-Do List App in Python\n",
        "\n",
        "todo_list = []\n",
        "\n",
        "def show_menu():\n",
        "    print(\"\\n--- TO-DO LIST MENU ---\")\n",
        "    print(\"1. View Tasks\")\n",
        "    print(\"2. Add Task\")\n",
        "    print(\"3. Remove Task\")\n",
        "    print(\"4. Exit\")\n",
        "\n",
        "def view_tasks():\n",
        "    if not todo_list:\n",
        "        print(\"No tasks found.\")\n",
        "    else:\n",
        "        print(\"\\nYour Tasks:\")\n",
        "        for idx, task in enumerate(todo_list, start=1):\n",
        "            print(f\"{idx}. {task}\")\n",
        "\n",
        "def add_task():\n",
        "    task = input(\"Enter a new task: \")\n",
        "    todo_list.append(task)\n",
        "    print(\"Task added!\")\n",
        "\n",
        "def remove_task():\n",
        "    view_tasks()\n",
        "    try:\n",
        "        task_num = int(input(\"Enter task number to remove: \"))\n",
        "        if 1 <= task_num <= len(todo_list):\n",
        "            removed = todo_list.pop(task_num - 1)\n",
        "            print(f\"Removed: {removed}\")\n",
        "        else:\n",
        "            print(\"Invalid task number!\")\n",
        "    except ValueError:\n",
        "        print(\"Please enter a valid number.\")\n",
        "\n",
        "while True:\n",
        "    show_menu()\n",
        "    choice = input(\"Choose an option (1-4): \")\n",
        "\n",
        "    if choice == \"1\":\n",
        "        view_tasks()\n",
        "    elif choice == \"2\":\n",
        "        add_task()\n",
        "    elif choice == \"3\":\n",
        "        remove_task()\n",
        "    elif choice == \"4\":\n",
        "        print(\"Goodbye!\")\n",
        "        break\n",
        "    else:\n",
        "        print(\"Invalid choice. Please try again.\")\n"
      ],
      "metadata": {
        "id": "aFdPKvEb5Cw2",
        "colab": {
          "base_uri": "https://localhost:8080/"
        },
        "outputId": "22c14feb-2d6a-4fab-cd9d-68fd447ae8f5"
      },
      "execution_count": null,
      "outputs": [
        {
          "output_type": "stream",
          "name": "stdout",
          "text": [
            "\n",
            "--- TO-DO LIST MENU ---\n",
            "1. View Tasks\n",
            "2. Add Task\n",
            "3. Remove Task\n",
            "4. Exit\n"
          ]
        }
      ]
    }
  ]
}